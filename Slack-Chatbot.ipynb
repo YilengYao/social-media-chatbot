{
 "cells": [
  {
   "cell_type": "markdown",
   "metadata": {},
   "source": [
    "change manifest.yml\n",
    "\n",
    "config.py\n"
   ]
  },
  {
   "cell_type": "markdown",
   "metadata": {},
   "source": [
    "https://cloud.ibm.com/cloudfoundry/overview # to create cloud foundry app\n",
    "\n",
    "once you created the cloud foundry enter the name of the app in *manifest.yml* next to name\n",
    "\n",
    "https://cloud.ibm.com/apps # your cf app, grab the url to be used for redirect url for slack\n"
   ]
  },
  {
   "cell_type": "markdown",
   "metadata": {},
   "source": [
    "*Chatbot*\n",
    "\n",
    "https://cloud.ibm.com/resources # then go to watson assistent to get url for watson\n",
    "\n",
    "https://assistant-us-south.watsonplatform.net # got to assistent seeting than api details for rest of the credentials\n",
    "\n",
    "the credential is added to config.py\n",
    "\n"
   ]
  },
  {
   "cell_type": "markdown",
   "metadata": {},
   "source": [
    "Slack\n",
    "\n",
    "make a slack workspace, if you don't already have one\n",
    "\n",
    "then go to\n",
    "\n",
    "https://api.slack.com/apps/\n",
    "\n",
    "Go to \"Basic Information\" to get CLIENT_ID, CLIENT_SECRET, and VERIFICATION_TOKEN\n",
    "\n",
    "\"OAuth & Permission\"\n",
    "\n",
    "your SLACK_API_TOKEN in config.py will be \"Bot User OAuth Access Token\" on OAuth & Permission\n",
    "press install app\n",
    "\n",
    "\n",
    "\n",
    "go to \"Event Subscription\" for bot *Subscribe to Workspace Events* and *Subscribe to Bot Events* Add Bot User Event\n",
    "- message.channels\n",
    "- message.im\n",
    "- pin_added\n",
    "- reaction_added\n",
    "- team_join\n",
    "\n",
    "on the slack workspace the chatbot is in the Apps section\n",
    "\n"
   ]
  },
  {
   "cell_type": "markdown",
   "metadata": {},
   "source": [
    "In the below code section replace username with your own ibm cloud username, and password with your ibm cloud password\n",
    "\n",
    "press shift + enter to run the code below."
   ]
  },
  {
   "cell_type": "code",
   "execution_count": null,
   "metadata": {},
   "outputs": [],
   "source": [
    "%%bash\n",
    "cd slack-chatbot\n",
    "ibmcloud login\n",
    "user name\n",
    "password\n",
    "'5'\n",
    "5\n",
    "ibmcloud target --cf\n",
    "ibmcloud cf push"
   ]
  },
  {
   "cell_type": "markdown",
   "metadata": {},
   "source": [
    "Once you deploy your app, use your cloud foundry url\n",
    "\n",
    "then go to https://api.slack.com/apps/\n",
    "\n",
    "go to \"OAuth & Permissions\" enter your Redirect URLs with your clould Foundry URL\n",
    "then save URL\n",
    "\n",
    "then go to \"Event Subscriptions for Request URL enter your could foundry url and save changes\n",
    "\n",
    "Then go to Manage Distribution and distribute your app # need more work here\n"
   ]
  },
  {
   "cell_type": "code",
   "execution_count": null,
   "metadata": {},
   "outputs": [],
   "source": []
  }
 ],
 "metadata": {
  "kernelspec": {
   "display_name": "Python 3",
   "language": "python",
   "name": "python3"
  },
  "language_info": {
   "codemirror_mode": {
    "name": "ipython",
    "version": 3
   },
   "file_extension": ".py",
   "mimetype": "text/x-python",
   "name": "python",
   "nbconvert_exporter": "python",
   "pygments_lexer": "ipython3",
   "version": "3.7.3"
  }
 },
 "nbformat": 4,
 "nbformat_minor": 2
}
